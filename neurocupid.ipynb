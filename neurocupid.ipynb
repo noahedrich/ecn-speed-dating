{
 "cells": [
  {
   "cell_type": "code",
   "execution_count": null,
   "metadata": {},
   "outputs": [],
   "source": [
    "import os.path\n",
    "import pandas as pd\n",
    "import numpy as np\n",
    "from sklearn.preprocessing import normalize\n",
    "import matplotlib.pyplot as plt\n",
    "import seaborn as sns\n",
    "import random"
   ]
  },
  {
   "cell_type": "code",
   "execution_count": null,
   "metadata": {},
   "outputs": [],
   "source": [
    "# import names and emails of all people signed up \n",
    "signed_up = pd.read_csv('signed_up.csv')"
   ]
  },
  {
   "cell_type": "code",
   "execution_count": null,
   "metadata": {},
   "outputs": [],
   "source": [
    "# import names of people who are not taking part this time\n",
    "away = pd.read_csv('away.csv')"
   ]
  },
  {
   "cell_type": "code",
   "execution_count": null,
   "metadata": {},
   "outputs": [],
   "source": [
    "def flatten(l):\n",
    "    return [item for sublist in l for item in sublist]"
   ]
  },
  {
   "cell_type": "code",
   "execution_count": null,
   "metadata": {},
   "outputs": [],
   "source": [
    "class neurocupid:\n",
    "    \"\"\"A class to create and keep track of monthly 1-1 neurocupid matches.\"\"\"    \n",
    "    def __init__(self, names):\n",
    "        self.names = sorted(names)\n",
    "        self.away = []\n",
    "        self.get_matches()\n",
    "        self.pairs = []\n",
    "        self.calc_prob()\n",
    "    \n",
    "    def get_matches(self):\n",
    "        \"\"\"Gets past matches saved in csv file. If file doesn't exist creates new matrix.\"\"\"\n",
    "        dname = globals()['_dh'][0]\n",
    "        fname = os.path.join(dname,'matches.csv')\n",
    "        if os.path.isfile(fname):\n",
    "            self.matches = np.loadtxt(fname, delimiter=',')\n",
    "        else:\n",
    "            self.matches = np.ones((len(self.names), len(self.names)))\n",
    "            \n",
    "    def calc_prob(self, ignore_away = False, ignore_pairs = False):\n",
    "        \"\"\"Calculate pairing probabilities based on past matches.\"\"\"\n",
    "        self.prob = 1/self.matches\n",
    "        # eliminate diagnoal (person can't be paired with themselves)\n",
    "        np.fill_diagonal(self.prob,0)\n",
    "        if not ignore_away:\n",
    "            # eliminate absent people\n",
    "            i = [self.names.index(name) for name in self.away]\n",
    "            self.prob[:,i] = 0\n",
    "        if not ignore_pairs:\n",
    "            # eliminate already paired people\n",
    "            i = [self.names.index(name) for name in flatten(self.pairs)]\n",
    "            self.prob[:,i] = 0\n",
    "        self.prob = normalize(self.prob, axis=1, norm='l1')\n",
    "    \n",
    "    def save_matches(self):\n",
    "        \"\"\"Saves updated matches to csv file in directory of notebook.\"\"\"\n",
    "        dname = globals()['_dh'][0]\n",
    "        fname = os.path.join(dname,'matches.csv')\n",
    "        np.savetxt(fname, self.matches, delimiter=',')\n",
    "    \n",
    "    def add_match(self, name1, name2):\n",
    "        \"\"\"Adds a match to the matrix.\"\"\"\n",
    "        i1 = self.names.index(name1)\n",
    "        i2 = self.names.index(name2)\n",
    "        self.matches[i1,i2] = self.matches[i1,i2] + 1\n",
    "        self.matches[i2,i1] = self.matches[i2,i1] + 1\n",
    "    \n",
    "    def remove_match(self, name1, name2):\n",
    "        \"\"\"Removes a match from the matrix.\"\"\"\n",
    "        i1 = self.names.index(name1)\n",
    "        i2 = self.names.index(name2)\n",
    "        self.matches[i1,i2] = self.matches[i1,i2] - 1\n",
    "        self.matches[i2,i1] = self.matches[i2,i1] - 1\n",
    "        \n",
    "    def create_match(self, name):\n",
    "        \"\"\"Sample a new match according to probabilities.\"\"\"\n",
    "        i = self.names.index(name)\n",
    "        if sum(self.prob[i]) == 0: # assign to random other pair\n",
    "            matchi = np.random.choice(len(self.pairs))\n",
    "            self.add_match(name, self.pairs[matchi][0])\n",
    "            self.add_match(name, self.pairs[matchi][1])\n",
    "            self.pairs[matchi].append(name)\n",
    "        else: # sample match\n",
    "            match = np.random.choice(self.names,  p=self.prob[i])\n",
    "            self.add_match(name, match)\n",
    "            self.pairs.append([name, match])\n",
    "            self.calc_prob()\n",
    "    \n",
    "    def create_round(self, away):\n",
    "        \"\"\"Create matches for one round.\"\"\"\n",
    "        self.away = sorted(away)\n",
    "        self.att = list(set(self.names) - set(self.away))\n",
    "        random.seed()\n",
    "        random.shuffle(self.att)\n",
    "        self.pairs = []\n",
    "        self.calc_prob()\n",
    "        for n in self.att:\n",
    "            if n not in flatten(self.pairs):\n",
    "                self.create_match(n)\n",
    "        \n",
    "    def print_pairs(self):\n",
    "        \"\"\"Print pairs.\"\"\"\n",
    "        text = ''\n",
    "        for pair in self.pairs:\n",
    "            text += '\\n\\n'+'\\n'.join(pair)+'\\n\\n--'\n",
    "        print(text)\n",
    "    \n",
    "    def plot_prob(self):\n",
    "        \"\"\"Plot matrix of probabilities of future matches.\"\"\"\n",
    "        self.calc_prob(ignore_away = True, ignore_pairs = True)\n",
    "        fig, ax = plt.subplots(1,1,figsize=(9,9))\n",
    "        ax = sns.heatmap(self.prob.round(2), annot=True, annot_kws={\"size\": 7}, vmin=0, vmax=1)\n",
    "        ax.set_xticklabels(self.names)\n",
    "        ax.set_yticklabels(self.names)\n",
    "        plt.xticks(rotation=45, ha='right')\n",
    "        plt.yticks(rotation=0)\n",
    "    \n",
    "    def add_name(self, name):\n",
    "        \"\"\"Adds a new member to the matrix.\"\"\"\n",
    "        # update names\n",
    "        self.names.append(name)\n",
    "        self.names = sorted(self.names)\n",
    "        i = self.names.index(name)\n",
    "        # add row and column with 1s into matrix \n",
    "        self.matches = np.insert(self.matches, i, 1, axis=0)\n",
    "        self.matches = np.insert(self.matches, i, 1, axis=1)\n",
    "    \n",
    "    def remove_name(self, name):\n",
    "        \"\"\"Removes member from the matrix. (Forgets all past matches.)\"\"\"\n",
    "        i = self.names.index(name)\n",
    "        # update names\n",
    "        self.names.remove(name)\n",
    "        # remove row and column from matrix \n",
    "        self.matches = np.delete(self.matches, i, axis=0)\n",
    "        self.matches = np.delete(self.matches, i, axis=1)"
   ]
  },
  {
   "cell_type": "code",
   "execution_count": null,
   "metadata": {},
   "outputs": [],
   "source": [
    "ecn = neurocupid(signed_up.names)"
   ]
  },
  {
   "cell_type": "code",
   "execution_count": null,
   "metadata": {},
   "outputs": [],
   "source": [
    "ecn.plot_prob()"
   ]
  },
  {
   "cell_type": "code",
   "execution_count": null,
   "metadata": {},
   "outputs": [],
   "source": [
    "ecn.create_round(away.names)"
   ]
  },
  {
   "cell_type": "code",
   "execution_count": null,
   "metadata": {},
   "outputs": [],
   "source": [
    "ecn.print_pairs()"
   ]
  },
  {
   "cell_type": "code",
   "execution_count": null,
   "metadata": {},
   "outputs": [],
   "source": [
    "ecn.plot_prob()"
   ]
  },
  {
   "cell_type": "code",
   "execution_count": null,
   "metadata": {},
   "outputs": [],
   "source": [
    "ecn.save_matches()"
   ]
  },
  {
   "cell_type": "code",
   "execution_count": null,
   "metadata": {},
   "outputs": [],
   "source": []
  }
 ],
 "metadata": {
  "kernelspec": {
   "display_name": "Python 3 (ipykernel)",
   "language": "python",
   "name": "python3"
  },
  "language_info": {
   "codemirror_mode": {
    "name": "ipython",
    "version": 3
   },
   "file_extension": ".py",
   "mimetype": "text/x-python",
   "name": "python",
   "nbconvert_exporter": "python",
   "pygments_lexer": "ipython3",
   "version": "3.9.12"
  }
 },
 "nbformat": 4,
 "nbformat_minor": 4
}
